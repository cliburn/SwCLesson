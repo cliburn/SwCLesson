{
 "metadata": {
  "name": ""
 },
 "nbformat": 3,
 "nbformat_minor": 0,
 "worksheets": [
  {
   "cells": [
    {
     "cell_type": "markdown",
     "metadata": {},
     "source": [
      "### Objective\n",
      "\n",
      "Beginners typically learn the usage of Python language constructs in isolation, which is good since it avoids mental overload. However, once you have learnt the basics, it is essential to see practical examples of how Python constructs are *integrated* to solve real-world problems. This session shows how to integrate several basic Python constructs to solve a text processing problem.\n",
      "\n",
      "**Task**: Count the number of each word (ignoring case) in the Gettysburg address (in the file \"getty.txt\"), and print the top 10 words.\n",
      "\n",
      "Skills:\n",
      "\n",
      "1. reading text files\n",
      "2. basic text clean-up operations\n",
      "3. usage of set, list and dictionary\n",
      "4. sorting with optional arguments\n",
      "5. usage of list and dictionary comprehensions\n",
      "6. usage of the string and operator modules"
     ]
    },
    {
     "cell_type": "markdown",
     "metadata": {},
     "source": [
      "### Problem decomposition\n",
      "\n",
      "1. read in the file \"getty.txt\" into a single string variable\n",
      "2. strip text of punctuation\n",
      "3. convert to lower case\n",
      "4. split string into words\n",
      "5. wrtie a function that counts the number of each word\n",
      "6. print the top 10 words "
     ]
    },
    {
     "cell_type": "code",
     "collapsed": false,
     "input": [
      "# read in the file \"getty.txt\" into a single string variable"
     ],
     "language": "python",
     "metadata": {},
     "outputs": [],
     "prompt_number": 1
    },
    {
     "cell_type": "code",
     "collapsed": false,
     "input": [
      "# strip text of punctuation"
     ],
     "language": "python",
     "metadata": {},
     "outputs": [],
     "prompt_number": 2
    },
    {
     "cell_type": "code",
     "collapsed": false,
     "input": [
      "# convert to lower case"
     ],
     "language": "python",
     "metadata": {},
     "outputs": [],
     "prompt_number": 3
    },
    {
     "cell_type": "code",
     "collapsed": false,
     "input": [
      "# split string into words"
     ],
     "language": "python",
     "metadata": {},
     "outputs": [],
     "prompt_number": 4
    },
    {
     "cell_type": "code",
     "collapsed": false,
     "input": [
      "# wrtie a function that counts the number of each word (loop version)"
     ],
     "language": "python",
     "metadata": {},
     "outputs": [],
     "prompt_number": 5
    },
    {
     "cell_type": "code",
     "collapsed": false,
     "input": [
      "# wrtie a function that counts the number of each word (list comprehension version)"
     ],
     "language": "python",
     "metadata": {},
     "outputs": [],
     "prompt_number": 6
    },
    {
     "cell_type": "code",
     "collapsed": false,
     "input": [
      "# print the top 10 words"
     ],
     "language": "python",
     "metadata": {},
     "outputs": []
    },
    {
     "cell_type": "markdown",
     "metadata": {},
     "source": [
      "### MCQ (Basic)\n",
      "\n",
      "What is the the correct value after running the following code?\n",
      "\n",
      "```\n",
      "s = \"\"\"\n",
      "This old man;\n",
      "he played one.\n",
      "\"\"\"\n",
      "\n",
      "print s.count('this')\n",
      "```\n",
      "\n",
      "1. None\n",
      "2. Code does not run because of error\n",
      "3. 0\n",
      "4. 1\n",
      "5. 2\n",
      "\n",
      "#### MCQ (Intermediate)\n",
      "\n",
      "What is the final value of *s* after running the following code?\n",
      "\n",
      "```\n",
      "s = \"\"\"\n",
      "This old man;\n",
      "he played one.\n",
      "\"\"\"\n",
      "\n",
      "s = s.strip().translate(None, string.punctuation).upper()\n",
      "```\n",
      "\n",
      "1. ```This old man;\\nhe played one.```\n",
      "\n",
      "2. ```THIS OLD MAN\\nHE PLAYED ONE```\n",
      "\n",
      "3. ```THIS OLD MANHE PLAYED ONE```\n",
      "\n",
      "4. ```this old manhe played one```\n",
      "\n",
      "5. ```THIS OLD MAN;\\NHE PLAYED ONE.```\n",
      "\n",
      "\n",
      "#### MCQ (Advanced)\n",
      "\n",
      "Which of the following ways of removing punctuation from a string *s* is the slowest?\n",
      "\n",
      "1. ```\n",
      "new_s = []\n",
      "for char in s:\n",
      "    if char not in string.punctuation:\n",
      "        new_s.append(char)\n",
      "new_s = ''.join(new_s)\n",
      "```\n",
      "\n",
      "2. ```\n",
      "new_s = ''\n",
      "for char in s:\n",
      "    if char not in string.punctuation:\n",
      "        new_s += char\n",
      "```\n",
      "\n",
      "3. ```\n",
      "new_s = ''.join([char for char in s if char not in string.punctuation])\n",
      "```\n",
      "\n",
      "4. ```\n",
      "new_s = s.translate(None, string.punctuation)\n",
      "```\n",
      "\n",
      "5. ```\n",
      "filter(lambda x: x not in string.punctuation, s)\n",
      "```"
     ]
    },
    {
     "cell_type": "code",
     "collapsed": false,
     "input": [],
     "language": "python",
     "metadata": {},
     "outputs": []
    }
   ],
   "metadata": {}
  }
 ]
}